{
 "cells": [
  {
   "cell_type": "code",
   "execution_count": 1,
   "metadata": {},
   "outputs": [],
   "source": [
    "import pandas as pd\n",
    "\n",
    "df = pd.read_csv('../syllable_data.csv')\n",
    "\n",
    "# Remove rows where 'word' or 'syllable_count' is NaN\n",
    "df = df.dropna(subset=['word', 'syllable_count'])"
   ]
  },
  {
   "cell_type": "code",
   "execution_count": 2,
   "metadata": {},
   "outputs": [
    {
     "name": "stdout",
     "output_type": "stream",
     "text": [
      "<class 'pandas.core.frame.DataFrame'>\n",
      "Index: 370102 entries, 0 to 370103\n",
      "Data columns (total 2 columns):\n",
      " #   Column          Non-Null Count   Dtype \n",
      "---  ------          --------------   ----- \n",
      " 0   word            370102 non-null  object\n",
      " 1   syllable_count  370102 non-null  int64 \n",
      "dtypes: int64(1), object(1)\n",
      "memory usage: 8.5+ MB\n"
     ]
    }
   ],
   "source": [
    "df.info()"
   ]
  },
  {
   "cell_type": "code",
   "execution_count": 3,
   "metadata": {},
   "outputs": [],
   "source": [
    "import numpy as np\n",
    "from sklearn.model_selection import train_test_split, GridSearchCV\n",
    "from sklearn.neural_network import MLPRegressor\n",
    "from sklearn.metrics import mean_squared_error\n",
    "\n",
    "# Feature extraction function\n",
    "def extract_features(word):\n",
    "    return [\n",
    "        len(word),                         # Length of the word\n",
    "        sum(1 for char in word if char in 'aeiouy'),  # Count of vowels\n",
    "        sum(1 for char in word if char not in 'aeiouy')  # Count of consonants\n",
    "    ]\n",
    "\n",
    "# Prepare features and labels\n",
    "X = np.array([extract_features(word) for word in df['word']])\n",
    "y = np.array(df[\"syllable_count\"])\n"
   ]
  },
  {
   "cell_type": "code",
   "execution_count": 5,
   "metadata": {},
   "outputs": [
    {
     "name": "stderr",
     "output_type": "stream",
     "text": [
      "c:\\Users\\Lardex\\anaconda3\\Lib\\site-packages\\sklearn\\neural_network\\_multilayer_perceptron.py:546: ConvergenceWarning: lbfgs failed to converge (status=1):\n",
      "STOP: TOTAL NO. of ITERATIONS REACHED LIMIT.\n",
      "\n",
      "Increase the number of iterations (max_iter) or scale the data as shown in:\n",
      "    https://scikit-learn.org/stable/modules/preprocessing.html\n",
      "  self.n_iter_ = _check_optimize_result(\"lbfgs\", opt_res, self.max_iter)\n"
     ]
    }
   ],
   "source": [
    "\n",
    "# Split into training and testing data\n",
    "X_train, X_test, y_train, y_test = train_test_split(X, y, test_size=0.2)\n",
    "\n",
    "# Train a neural network model\n",
    "model = MLPRegressor(\n",
    "    activation='tanh',\n",
    "    alpha=0.001,\n",
    "    hidden_layer_sizes=(100,),\n",
    "    learning_rate='adaptive',\n",
    "    max_iter=2000,\n",
    "    solver='lbfgs'\n",
    ")\n",
    "model.fit(X_train, y_train)\n",
    "\n",
    "# Test model on unseen data\n",
    "predictions = model.predict(X_test)"
   ]
  },
  {
   "cell_type": "code",
   "execution_count": 3,
   "metadata": {},
   "outputs": [
    {
     "name": "stdout",
     "output_type": "stream",
     "text": [
      "Fitting 3 folds for each of 128 candidates, totalling 384 fits\n",
      "Best parameters found: {'activation': 'tanh', 'alpha': 0.001, 'hidden_layer_sizes': (100,), 'learning_rate': 'adaptive', 'max_iter': 2000, 'solver': 'lbfgs'}\n"
     ]
    }
   ],
   "source": [
    "# Define the hyperparameter grid\n",
    "param_grid = {\n",
    "    'hidden_layer_sizes': [(10,), (50,), (100,), (50, 50)],   # Different layer sizes\n",
    "    'activation': ['relu', 'tanh'],  # Activation functions to test\n",
    "    'solver': ['adam', 'lbfgs'],     # Solvers to test\n",
    "    'learning_rate': ['constant', 'adaptive'],  # Learning rate strategies\n",
    "    'max_iter': [1000, 2000],        # Maximum iterations\n",
    "    'alpha': [0.0001, 0.001],        # Regularization parameter\n",
    "}\n",
    "\n",
    "grid_search = GridSearchCV(model, param_grid, cv=3, scoring='neg_mean_squared_error', verbose=2, n_jobs=-1)\n",
    "\n",
    "# Perform the grid search\n",
    "grid_search.fit(X_train, y_train)\n",
    "\n",
    "# Get the best parameters\n",
    "print(\"Best parameters found:\", grid_search.best_params_)\n"
   ]
  },
  {
   "cell_type": "code",
   "execution_count": 4,
   "metadata": {},
   "outputs": [
    {
     "name": "stdout",
     "output_type": "stream",
     "text": [
      "Mean Squared Error on Test Set: 0.28939086719730184\n"
     ]
    }
   ],
   "source": [
    "\n",
    "# Evaluate the best model on the test set\n",
    "best_model = grid_search.best_estimator_\n",
    "predictions = best_model.predict(X_test)\n",
    "\n",
    "# Evaluate model performance\n",
    "mse = mean_squared_error(y_test, predictions)\n",
    "print(f\"Mean Squared Error on Test Set: {mse}\")"
   ]
  },
  {
   "cell_type": "code",
   "execution_count": 8,
   "metadata": {},
   "outputs": [],
   "source": [
    "import pickle\n",
    "\n",
    "# Save the model to a file\n",
    "with open('syllable_model.pkl', 'wb') as model_file:\n",
    "    pickle.dump(model, model_file)\n",
    "\n",
    "# To load the model later\n",
    "# model = joblib.load('syllable_model.pkl')"
   ]
  },
  {
   "cell_type": "code",
   "execution_count": 6,
   "metadata": {},
   "outputs": [
    {
     "name": "stdout",
     "output_type": "stream",
     "text": [
      "Word: programming, Predicted Syllables: 3\n",
      "Word: science, Predicted Syllables: 2\n",
      "Word: AI, Predicted Syllables: 1\n"
     ]
    }
   ],
   "source": [
    "# Example of using the saved model to predict syllables for new words\n",
    "new_words = ['programming', 'science', 'AI']\n",
    "\n",
    "for word in new_words:\n",
    "    features = np.array([extract_features(word)])\n",
    "    syllables = model.predict(features)\n",
    "    print(f\"Word: {word}, Predicted Syllables: {round(syllables[0])}\")\n"
   ]
  }
 ],
 "metadata": {
  "kernelspec": {
   "display_name": "base",
   "language": "python",
   "name": "python3"
  },
  "language_info": {
   "codemirror_mode": {
    "name": "ipython",
    "version": 3
   },
   "file_extension": ".py",
   "mimetype": "text/x-python",
   "name": "python",
   "nbconvert_exporter": "python",
   "pygments_lexer": "ipython3",
   "version": "3.11.5"
  }
 },
 "nbformat": 4,
 "nbformat_minor": 2
}

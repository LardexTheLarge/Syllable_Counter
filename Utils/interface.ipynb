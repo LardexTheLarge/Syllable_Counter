{
 "cells": [
  {
   "cell_type": "code",
   "execution_count": 5,
   "metadata": {},
   "outputs": [],
   "source": [
    "import pickle\n",
    "import gradio as gr\n",
    "import numpy as np\n",
    "import pandas as pd\n",
    "\n",
    "# load the model\n",
    "with open('../Model/syllable_model.pkl', 'rb') as file:\n",
    "    model = pickle.load(file)"
   ]
  },
  {
   "cell_type": "code",
   "execution_count": 6,
   "metadata": {},
   "outputs": [
    {
     "name": "stdout",
     "output_type": "stream",
     "text": [
      "Running on local URL:  http://127.0.0.1:7860\n",
      "\n",
      "To create a public link, set `share=True` in `launch()`.\n"
     ]
    },
    {
     "data": {
      "text/html": [
       "<div><iframe src=\"http://127.0.0.1:7860/\" width=\"100%\" height=\"500\" allow=\"autoplay; camera; microphone; clipboard-read; clipboard-write;\" frameborder=\"0\" allowfullscreen></iframe></div>"
      ],
      "text/plain": [
       "<IPython.core.display.HTML object>"
      ]
     },
     "metadata": {},
     "output_type": "display_data"
    },
    {
     "data": {
      "text/plain": []
     },
     "execution_count": 6,
     "metadata": {},
     "output_type": "execute_result"
    },
    {
     "name": "stdout",
     "output_type": "stream",
     "text": [
      "IMPORTANT: You are using gradio version 4.24.0, however version 4.29.0 is available, please upgrade.\n",
      "--------\n"
     ]
    }
   ],
   "source": [
    "# Feature extraction function\n",
    "def extract_features(word):\n",
    "    return [\n",
    "        len(word),                         # Length of the word\n",
    "        sum(1 for char in word if char in 'aeiouy'),  # Count of vowels\n",
    "        sum(1 for char in word if char not in 'aeiouy')  # Count of consonants\n",
    "    ]\n",
    "\n",
    "# Prediction function for Gradio interface\n",
    "def predict_syllables(word):\n",
    "    features = np.array([extract_features(word)])  # Extract features\n",
    "    prediction = model.predict(features)  # Predict syllable count\n",
    "    return round(prediction[0])  # Return the predicted syllable count\n",
    "\n",
    "# Create Gradio interface\n",
    "iface = gr.Interface(\n",
    "    fn=predict_syllables,  # Function to call when making predictions\n",
    "    inputs=\"text\",         # Input is a text box (for the word)\n",
    "    outputs=\"text\",        # Output is text (predicted syllable count)\n",
    "    title=\"Syllable Counting Model\",\n",
    "    description=\"Enter a word to predict its syllable count.\"\n",
    ")\n",
    "\n",
    "# Launch the Gradio app\n",
    "iface.launch()"
   ]
  }
 ],
 "metadata": {
  "kernelspec": {
   "display_name": "base",
   "language": "python",
   "name": "python3"
  },
  "language_info": {
   "codemirror_mode": {
    "name": "ipython",
    "version": 3
   },
   "file_extension": ".py",
   "mimetype": "text/x-python",
   "name": "python",
   "nbconvert_exporter": "python",
   "pygments_lexer": "ipython3",
   "version": "3.11.5"
  }
 },
 "nbformat": 4,
 "nbformat_minor": 2
}

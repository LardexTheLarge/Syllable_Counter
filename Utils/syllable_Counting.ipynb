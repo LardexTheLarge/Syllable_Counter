{
 "cells": [
  {
   "cell_type": "code",
   "execution_count": 2,
   "metadata": {},
   "outputs": [],
   "source": [
    "def load_words(filename):\n",
    "    with open(filename, 'r') as file:\n",
    "        words = file.read().splitlines()\n",
    "    return words\n",
    "\n",
    "words = load_words('../words_alpha.txt')"
   ]
  },
  {
   "cell_type": "code",
   "execution_count": 5,
   "metadata": {},
   "outputs": [],
   "source": [
    "import re\n",
    "\n",
    "def count_syllables(word):\n",
    "    word = word.lower()\n",
    "    # Find vowel groups\n",
    "    syllable_count = len(re.findall(r'[aeiouy]+', word))\n",
    "    # Adjust for silent 'e'\n",
    "    if word.endswith('e'):\n",
    "        syllable_count -= 1\n",
    "    # Ensure at least 1 syllable\n",
    "    return max(1, syllable_count)\n",
    "\n",
    "# Apply the heuristic\n",
    "syllable_data = [(word, count_syllables(word)) for word in words]"
   ]
  },
  {
   "cell_type": "code",
   "execution_count": null,
   "metadata": {},
   "outputs": [],
   "source": [
    "import pyodbc\n",
    "import os\n",
    "from dotenv import load_dotenv\n",
    "\n",
    "load_dotenv()\n",
    "server = os.getenv('SERVER')\n",
    "db = os.getenv('DATABASE')\n",
    "\n",
    "# Connect to SQL Server database\n",
    "conn = pyodbc.connect(\n",
    "    'DRIVER={SQL Server};'\n",
    "    f'SERVER={server};'\n",
    "    f'DATABASE={db};'\n",
    "    'Trusted_Connection=yes;'\n",
    ")\n",
    "cursor = conn.cursor()"
   ]
  }
 ],
 "metadata": {
  "kernelspec": {
   "display_name": "base",
   "language": "python",
   "name": "python3"
  },
  "language_info": {
   "codemirror_mode": {
    "name": "ipython",
    "version": 3
   },
   "file_extension": ".py",
   "mimetype": "text/x-python",
   "name": "python",
   "nbconvert_exporter": "python",
   "pygments_lexer": "ipython3",
   "version": "3.11.5"
  }
 },
 "nbformat": 4,
 "nbformat_minor": 2
}
